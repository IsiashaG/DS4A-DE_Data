{
 "cells": [
  {
   "cell_type": "markdown",
   "metadata": {
    "deletable": false,
    "editable": false,
    "nbgrader": {
     "cell_type": "markdown",
     "checksum": "8975b2e5dbf4cf7f99f6f49aead1a7fa",
     "grade": false,
     "grade_id": "cell-3382eccab4f96f1b",
     "locked": true,
     "schema_version": 3,
     "solution": false,
     "task": false
    }
   },
   "source": [
    "# Review module"
   ]
  },
  {
   "cell_type": "markdown",
   "metadata": {
    "deletable": false,
    "editable": false,
    "nbgrader": {
     "cell_type": "markdown",
     "checksum": "c35373d8994dadaffa66039c73e36385",
     "grade": false,
     "grade_id": "cell-32a2a3d5089fbc41",
     "locked": true,
     "schema_version": 3,
     "solution": false,
     "task": false
    }
   },
   "source": [
    "**Instructions**\n",
    "\n",
    "In order to complete this review module, we recommend you follow these instructions:\n",
    "\n",
    "1. Complete the code cells provided to you in this notebook, but do **not** change the names of the variables. If you do that, the autograder will fail and you will not receive any points.\n",
    "2. Run all the answered cells before you run the testing cells. The answers must exist before they are graded!\n",
    "3. Remove from each cell the code `raise NotImplementedError()` and replace it with your implementation."
   ]
  },
  {
   "cell_type": "markdown",
   "metadata": {
    "deletable": false,
    "editable": false,
    "nbgrader": {
     "cell_type": "markdown",
     "checksum": "f7f34ad7a22af81f93eebef97f51c4b4",
     "grade": false,
     "grade_id": "cell-2d2316f845fdd9bc",
     "locked": true,
     "schema_version": 3,
     "solution": false,
     "task": false
    }
   },
   "source": [
    "## The dataset\n",
    "\n",
    "The [`liste-des-immeubles-proteges-au-titre-des-monuments-historiques.csv`](data/liste-des-immeubles-proteges-au-titre-des-monuments-historiques.csv) file contains information about all the historical monuments (buildings) that can be found in the territory of France and are protected by the Government. These are the columns present in the dataset:\n",
    "\n",
    "* `ref`: The building ID\n",
    "* `tico`: The building's common name\n",
    "* `adrs`: The location of the monument (the address)\n",
    "* `affe`: Government agency in that is in charge of the monument\n",
    "* `autr`: The name of the architect that built or designed the monument\n",
    "* `com` and `wcom`: The [*commune*](https://en.wikipedia.org/wiki/Communes_of_France) where the building is located\n",
    "* `desc`: Description\n",
    "* `dpro`: Date of protection\n",
    "* `dpt_lettre`: Province\n",
    "* `hist`: History of the monument\n",
    "* `insee`: [INSEE](https://www.insee.fr/en/accueil) code (ID given to the monument for statistical purposes)\n",
    "* `ppro`: Legal details about the building's protection status\n",
    "* `reg`: Region where the monument is located\n",
    "* `sclx`: Historical period to which the monument belongs\n",
    "* `stat`: An additional descriptor with information about the owner of the building"
   ]
  },
  {
   "cell_type": "code",
   "execution_count": 1,
   "metadata": {
    "deletable": false,
    "editable": false,
    "nbgrader": {
     "cell_type": "code",
     "checksum": "06686d95d3cbe35e99116a0f3d2a7a25",
     "grade": false,
     "grade_id": "cell-e9ca93bde16a4611",
     "locked": true,
     "schema_version": 3,
     "solution": false,
     "task": false
    }
   },
   "outputs": [
    {
     "data": {
      "text/html": [
       "<div>\n",
       "<style scoped>\n",
       "    .dataframe tbody tr th:only-of-type {\n",
       "        vertical-align: middle;\n",
       "    }\n",
       "\n",
       "    .dataframe tbody tr th {\n",
       "        vertical-align: top;\n",
       "    }\n",
       "\n",
       "    .dataframe thead th {\n",
       "        text-align: right;\n",
       "    }\n",
       "</style>\n",
       "<table border=\"1\" class=\"dataframe\">\n",
       "  <thead>\n",
       "    <tr style=\"text-align: right;\">\n",
       "      <th></th>\n",
       "      <th>tico</th>\n",
       "      <th>ppro</th>\n",
       "      <th>dpro</th>\n",
       "      <th>stat</th>\n",
       "      <th>desc</th>\n",
       "      <th>hist</th>\n",
       "      <th>autr</th>\n",
       "      <th>adrs</th>\n",
       "      <th>reg</th>\n",
       "      <th>dpt_lettre</th>\n",
       "      <th>...</th>\n",
       "      <th>wadrs</th>\n",
       "      <th>wcom</th>\n",
       "      <th>code_departement</th>\n",
       "      <th>ploc</th>\n",
       "      <th>dmaj</th>\n",
       "      <th>ref</th>\n",
       "      <th>insee</th>\n",
       "      <th>contact</th>\n",
       "      <th>sclx</th>\n",
       "      <th>coordonnees_ban</th>\n",
       "    </tr>\n",
       "  </thead>\n",
       "  <tbody>\n",
       "    <tr>\n",
       "      <th>0</th>\n",
       "      <td>Chapelle du cimetière</td>\n",
       "      <td>Chapelle du cimetière : classement par arrêté ...</td>\n",
       "      <td>1913/12/30 : classé MH</td>\n",
       "      <td>propriété de la commune</td>\n",
       "      <td>NaN</td>\n",
       "      <td>Romane pour la plus grande partie, la chapelle...</td>\n",
       "      <td>NaN</td>\n",
       "      <td>dans le cimetière</td>\n",
       "      <td>Occitanie</td>\n",
       "      <td>Aude</td>\n",
       "      <td>...</td>\n",
       "      <td>Dans le cimetière</td>\n",
       "      <td>Capendu</td>\n",
       "      <td>11</td>\n",
       "      <td>Anciennement région de : Languedoc-Roussillon</td>\n",
       "      <td>2019-05-15</td>\n",
       "      <td>PA00102580</td>\n",
       "      <td>11068</td>\n",
       "      <td>mediatheque.patrimoine@culture.gouv.fr</td>\n",
       "      <td>12e s.;14e s.;16e s.</td>\n",
       "      <td>NaN</td>\n",
       "    </tr>\n",
       "    <tr>\n",
       "      <th>1</th>\n",
       "      <td>Chapelle Notre-Dame-de-Santé</td>\n",
       "      <td>Chapelle Notre-Dame-de-Santé : classement par ...</td>\n",
       "      <td>1932/12/29 : classé MH</td>\n",
       "      <td>propriété de la commune</td>\n",
       "      <td>NaN</td>\n",
       "      <td>La chapelle est contigüe à l'hôpital avec lequ...</td>\n",
       "      <td>NaN</td>\n",
       "      <td>NaN</td>\n",
       "      <td>Occitanie</td>\n",
       "      <td>Aude</td>\n",
       "      <td>...</td>\n",
       "      <td>NaN</td>\n",
       "      <td>Carcassonne</td>\n",
       "      <td>11</td>\n",
       "      <td>Anciennement région de : Languedoc-Roussillon</td>\n",
       "      <td>2019-05-15</td>\n",
       "      <td>PA00102585</td>\n",
       "      <td>11069</td>\n",
       "      <td>mediatheque.patrimoine@culture.gouv.fr</td>\n",
       "      <td>15e s.;16e s.</td>\n",
       "      <td>43.206303,2.344538</td>\n",
       "    </tr>\n",
       "    <tr>\n",
       "      <th>2</th>\n",
       "      <td>Maison</td>\n",
       "      <td>Ensemble de l'escalier avec rampe en fer forgé...</td>\n",
       "      <td>1948/04/13 : inscrit MH</td>\n",
       "      <td>propriété privée</td>\n",
       "      <td>NaN</td>\n",
       "      <td>Maison probablement reconstruite ou embellie e...</td>\n",
       "      <td>NaN</td>\n",
       "      <td>Pinel (rue) 5</td>\n",
       "      <td>Occitanie</td>\n",
       "      <td>Aude</td>\n",
       "      <td>...</td>\n",
       "      <td>5 rue Pinel</td>\n",
       "      <td>Carcassonne</td>\n",
       "      <td>11</td>\n",
       "      <td>Anciennement région de : Languedoc-Roussillon</td>\n",
       "      <td>2019-05-15</td>\n",
       "      <td>PA00102604</td>\n",
       "      <td>11069</td>\n",
       "      <td>mediatheque.patrimoine@culture.gouv.fr</td>\n",
       "      <td>17e s.</td>\n",
       "      <td>43.212951,2.352808</td>\n",
       "    </tr>\n",
       "    <tr>\n",
       "      <th>3</th>\n",
       "      <td>Eglise paroissiale Saint-Loup</td>\n",
       "      <td>Eglise paroissiale : inscription par arrêté du...</td>\n",
       "      <td>1948/04/13 : inscrit MH</td>\n",
       "      <td>propriété de la commune</td>\n",
       "      <td>NaN</td>\n",
       "      <td>L'église figure dans un acte de 1304 parmi les...</td>\n",
       "      <td>NaN</td>\n",
       "      <td>NaN</td>\n",
       "      <td>Occitanie</td>\n",
       "      <td>Aude</td>\n",
       "      <td>...</td>\n",
       "      <td>NaN</td>\n",
       "      <td>Clermont-sur-Lauquet</td>\n",
       "      <td>11</td>\n",
       "      <td>Anciennement région de : Languedoc-Roussillon</td>\n",
       "      <td>2019-11-05</td>\n",
       "      <td>PA00102655</td>\n",
       "      <td>11094</td>\n",
       "      <td>mediatheque.patrimoine@culture.gouv.fr</td>\n",
       "      <td>11e s.</td>\n",
       "      <td>43.047337,2.419943</td>\n",
       "    </tr>\n",
       "    <tr>\n",
       "      <th>4</th>\n",
       "      <td>Eglise Saint-Martin</td>\n",
       "      <td>Eglise : classement par arrêté du 13 juin 1913</td>\n",
       "      <td>1913/06/13 : classé MH</td>\n",
       "      <td>propriété de la commune</td>\n",
       "      <td>NaN</td>\n",
       "      <td>Eglise romane à trois absides et trois nefs, s...</td>\n",
       "      <td>NaN</td>\n",
       "      <td>NaN</td>\n",
       "      <td>Occitanie</td>\n",
       "      <td>Aude</td>\n",
       "      <td>...</td>\n",
       "      <td>NaN</td>\n",
       "      <td>Escales</td>\n",
       "      <td>11</td>\n",
       "      <td>Anciennement région de : Languedoc-Roussillon</td>\n",
       "      <td>2019-11-05</td>\n",
       "      <td>PA00102676</td>\n",
       "      <td>11126</td>\n",
       "      <td>mediatheque.patrimoine@culture.gouv.fr</td>\n",
       "      <td>12e s.</td>\n",
       "      <td>43.226967,2.70928</td>\n",
       "    </tr>\n",
       "  </tbody>\n",
       "</table>\n",
       "<p>5 rows × 22 columns</p>\n",
       "</div>"
      ],
      "text/plain": [
       "                            tico  \\\n",
       "0          Chapelle du cimetière   \n",
       "1   Chapelle Notre-Dame-de-Santé   \n",
       "2                         Maison   \n",
       "3  Eglise paroissiale Saint-Loup   \n",
       "4            Eglise Saint-Martin   \n",
       "\n",
       "                                                ppro                     dpro  \\\n",
       "0  Chapelle du cimetière : classement par arrêté ...   1913/12/30 : classé MH   \n",
       "1  Chapelle Notre-Dame-de-Santé : classement par ...   1932/12/29 : classé MH   \n",
       "2  Ensemble de l'escalier avec rampe en fer forgé...  1948/04/13 : inscrit MH   \n",
       "3  Eglise paroissiale : inscription par arrêté du...  1948/04/13 : inscrit MH   \n",
       "4     Eglise : classement par arrêté du 13 juin 1913   1913/06/13 : classé MH   \n",
       "\n",
       "                      stat desc  \\\n",
       "0  propriété de la commune  NaN   \n",
       "1  propriété de la commune  NaN   \n",
       "2         propriété privée  NaN   \n",
       "3  propriété de la commune  NaN   \n",
       "4  propriété de la commune  NaN   \n",
       "\n",
       "                                                hist autr               adrs  \\\n",
       "0  Romane pour la plus grande partie, la chapelle...  NaN  dans le cimetière   \n",
       "1  La chapelle est contigüe à l'hôpital avec lequ...  NaN                NaN   \n",
       "2  Maison probablement reconstruite ou embellie e...  NaN      Pinel (rue) 5   \n",
       "3  L'église figure dans un acte de 1304 parmi les...  NaN                NaN   \n",
       "4  Eglise romane à trois absides et trois nefs, s...  NaN                NaN   \n",
       "\n",
       "         reg dpt_lettre  ...              wadrs                  wcom  \\\n",
       "0  Occitanie       Aude  ...  Dans le cimetière               Capendu   \n",
       "1  Occitanie       Aude  ...                NaN           Carcassonne   \n",
       "2  Occitanie       Aude  ...        5 rue Pinel           Carcassonne   \n",
       "3  Occitanie       Aude  ...                NaN  Clermont-sur-Lauquet   \n",
       "4  Occitanie       Aude  ...                NaN               Escales   \n",
       "\n",
       "  code_departement                                           ploc        dmaj  \\\n",
       "0               11  Anciennement région de : Languedoc-Roussillon  2019-05-15   \n",
       "1               11  Anciennement région de : Languedoc-Roussillon  2019-05-15   \n",
       "2               11  Anciennement région de : Languedoc-Roussillon  2019-05-15   \n",
       "3               11  Anciennement région de : Languedoc-Roussillon  2019-11-05   \n",
       "4               11  Anciennement région de : Languedoc-Roussillon  2019-11-05   \n",
       "\n",
       "          ref  insee                                 contact  \\\n",
       "0  PA00102580  11068  mediatheque.patrimoine@culture.gouv.fr   \n",
       "1  PA00102585  11069  mediatheque.patrimoine@culture.gouv.fr   \n",
       "2  PA00102604  11069  mediatheque.patrimoine@culture.gouv.fr   \n",
       "3  PA00102655  11094  mediatheque.patrimoine@culture.gouv.fr   \n",
       "4  PA00102676  11126  mediatheque.patrimoine@culture.gouv.fr   \n",
       "\n",
       "                   sclx     coordonnees_ban  \n",
       "0  12e s.;14e s.;16e s.                 NaN  \n",
       "1         15e s.;16e s.  43.206303,2.344538  \n",
       "2                17e s.  43.212951,2.352808  \n",
       "3                11e s.  43.047337,2.419943  \n",
       "4                12e s.   43.226967,2.70928  \n",
       "\n",
       "[5 rows x 22 columns]"
      ]
     },
     "execution_count": 1,
     "metadata": {},
     "output_type": "execute_result"
    }
   ],
   "source": [
    "import pandas as pd\n",
    "monuments = pd.read_csv(\"data/liste-des-immeubles-proteges-au-titre-des-monuments-historiques.csv\", sep=\";\")\n",
    "monuments.head()"
   ]
  },
  {
   "cell_type": "markdown",
   "metadata": {
    "deletable": false,
    "editable": false,
    "nbgrader": {
     "cell_type": "markdown",
     "checksum": "3076c6469b64263173bb3e12db3bc600",
     "grade": false,
     "grade_id": "cell-94c87dca58a8477d",
     "locked": true,
     "schema_version": 3,
     "solution": false,
     "task": false
    }
   },
   "source": [
    "### Exercise 1 (3 points)\n",
    "\n",
    "Create a new column in the dataset that contains only the year in which the monument was protected. Call it `year_protection`.\n",
    "\n",
    "**Hint:** If you choose to use the [`pd.to_datetime()`](https://pandas.pydata.org/docs/reference/api/pandas.to_datetime.html) function to convert from `str` to `datetime`, make sure to use the `errors=\"coerce\"` argument, since a few rows have corrupted data (like references to the year 20115). This argument replaces those values with `NaT`s (\"Not a Time\"), which are the way `pandas` represents null values in Series of type `datetime`."
   ]
  },
  {
   "cell_type": "code",
   "execution_count": 5,
   "metadata": {
    "deletable": false,
    "nbgrader": {
     "cell_type": "code",
     "checksum": "3c13e195cfdf444bbab4edf2f1cc1c41",
     "grade": false,
     "grade_id": "cell-2402f86974fbcb94",
     "locked": false,
     "schema_version": 3,
     "solution": true,
     "task": false
    }
   },
   "outputs": [],
   "source": [
    "# YOUR CODE HERE\n",
    "monuments['dpro'] = pd.to_datetime(monuments['dpro'], errors='coerce')\n",
    "monuments['year_protection'] = monuments['dpro'].dt.year"
   ]
  },
  {
   "cell_type": "markdown",
   "metadata": {
    "deletable": false,
    "editable": false,
    "nbgrader": {
     "cell_type": "markdown",
     "checksum": "93ba19f1f79eb75abf6d43eef12fc75b",
     "grade": false,
     "grade_id": "cell-3e0d51d6aa046ac5",
     "locked": true,
     "schema_version": 3,
     "solution": false,
     "task": false
    }
   },
   "source": [
    "### Exercise 2 (2 points)\n",
    "\n",
    "Using `.apply()` and/or ordinary string methods, create a new column called `castle` in the `monuments` DataFrame in which the values are `True` if the monument is a castle and `False` if it isn't, i.e., use the `tico` column and find whether the values contain the French word for castle. \"Castle\" in French is *château*.\n",
    "\n",
    "**Hint:** There are 6,034 castles in this dataset, and 39,650 buildings that are not castles. To compute these numbers, we accounted for variation due to uppercase and lowercase differences and the common typo *chateau* (without the circumflex). Your results should correspond with this."
   ]
  },
  {
   "cell_type": "code",
   "execution_count": 7,
   "metadata": {
    "deletable": false,
    "nbgrader": {
     "cell_type": "code",
     "checksum": "465edf45080a6ff9db7618400efe2bd0",
     "grade": false,
     "grade_id": "cell-0b595804775e26d4",
     "locked": false,
     "schema_version": 3,
     "solution": true,
     "task": false
    }
   },
   "outputs": [],
   "source": [
    "# YOUR CODE HERE\n",
    "monuments['castle']=monuments['tico'].apply(lambda x:'château' in x.lower().replace('chateau','château'))"
   ]
  },
  {
   "cell_type": "markdown",
   "metadata": {
    "deletable": false,
    "editable": false,
    "nbgrader": {
     "cell_type": "markdown",
     "checksum": "f4017a3fd236a563b3e119cd534a4e3f",
     "grade": false,
     "grade_id": "cell-67fd326288a64e21",
     "locked": true,
     "schema_version": 3,
     "solution": false,
     "task": false
    }
   },
   "source": [
    "### Exercise 3 (1 point)\n",
    "\n",
    "The `tico` column has many duplicates. For instance, *Maison*, which means \"House\" in French, is repeated many times because there are many monuments that are simply known as \"houses\". Create a **list** (*not* a new column in the `monuments` DataFrame) called `tico_once`, which exclusively lists the elements of the `tico` column that appear only *once*. This means that a mere `.drop_duplicates()` won't be valid here, because it would still include words such as \"maison\" or \"château\", that show up many times.\n",
    "\n",
    "**Hint:** You should: Make all words lowercase, count how many times each row appears, remove those that appear more than once, and assign the remaining to the `tico_once` list. [Here](https://stackoverflow.com/a/28272238/6945498) is how to filter a Series in case you need to."
   ]
  },
  {
   "cell_type": "code",
   "execution_count": 8,
   "metadata": {
    "deletable": false,
    "nbgrader": {
     "cell_type": "code",
     "checksum": "e118ad8b8b13395aae16db00677353c2",
     "grade": false,
     "grade_id": "cell-36e3ac92b4e3f7f3",
     "locked": false,
     "schema_version": 3,
     "solution": true,
     "task": false
    }
   },
   "outputs": [],
   "source": [
    "# YOUR CODE HERE\n",
    "monuments['tico'] = monuments['tico'].str.lower()\n",
    "counts = monuments['tico'].value_counts()\n",
    "tico_once = counts[counts==1].index.tolist()"
   ]
  },
  {
   "cell_type": "markdown",
   "metadata": {
    "deletable": false,
    "editable": false,
    "nbgrader": {
     "cell_type": "markdown",
     "checksum": "bd936b92c372fae3a2d728b290d00462",
     "grade": false,
     "grade_id": "cell-191dfa50f46ba44a",
     "locked": true,
     "schema_version": 3,
     "solution": false,
     "task": false
    }
   },
   "source": [
    "## Testing cells\n",
    "\n",
    "Run the below cells to check your answers. Make sure you run your solution cells first before running the cells below, otherwise you will get an error when checking your answers."
   ]
  },
  {
   "cell_type": "code",
   "execution_count": 9,
   "metadata": {
    "deletable": false,
    "editable": false,
    "nbgrader": {
     "cell_type": "code",
     "checksum": "6947f1861e84fcf0b433f02519ac2585",
     "grade": true,
     "grade_id": "cell-77d5c96556a2fd02",
     "locked": true,
     "points": 3,
     "schema_version": 3,
     "solution": false,
     "task": false
    }
   },
   "outputs": [
    {
     "name": "stdout",
     "output_type": "stream",
     "text": [
      "Exercise 1 passed the preliminary sanity check.\n"
     ]
    }
   ],
   "source": [
    "# Ex 1\n",
    "assert \"year_protection\" in monuments.columns, \"Ex. 1 - You have to create a column called year_protection in the monuments DataFrame!\"\n",
    "print(\"Exercise 1 passed the preliminary sanity check.\")"
   ]
  },
  {
   "cell_type": "code",
   "execution_count": 10,
   "metadata": {
    "deletable": false,
    "editable": false,
    "nbgrader": {
     "cell_type": "code",
     "checksum": "a15fc4afcaa765351f9484ededef02c3",
     "grade": true,
     "grade_id": "cell-eba8ec71dfdc1b4d",
     "locked": true,
     "points": 2,
     "schema_version": 3,
     "solution": false,
     "task": false
    }
   },
   "outputs": [
    {
     "name": "stdout",
     "output_type": "stream",
     "text": [
      "Exercise 2 passed the preliminary sanity check.\n"
     ]
    }
   ],
   "source": [
    "# Ex 2\n",
    "assert \"castle\" in monuments.columns, \"Ex. 2 - You have to create a column called castle in the monuments DataFrame!\"\n",
    "print(\"Exercise 2 passed the preliminary sanity check.\")"
   ]
  },
  {
   "cell_type": "code",
   "execution_count": 11,
   "metadata": {
    "deletable": false,
    "editable": false,
    "nbgrader": {
     "cell_type": "code",
     "checksum": "3ae7429fd3d3cbe4e5a52cf453e0912a",
     "grade": true,
     "grade_id": "cell-91a308715ed234fb",
     "locked": true,
     "points": 1,
     "schema_version": 3,
     "solution": false,
     "task": false
    }
   },
   "outputs": [
    {
     "name": "stdout",
     "output_type": "stream",
     "text": [
      "Exercise 3 passed the preliminary sanity check.\n"
     ]
    }
   ],
   "source": [
    "# Ex 3\n",
    "assert \"tico_once\" in globals(), \"Ex. 3 - You need to create the tico_once variable!\"\n",
    "assert type(tico_once) == type([1,2,3]), \"Ex. 3 - The tico_once variable must be of type list!\"\n",
    "assert len(tico_once) == 23874, \"Ex. 3 - The tico_once list must have exactly 23874 elements. Are you standardizing the case? No need to correct typos or replace special characters.\"\n",
    "print(\"Exercise 3 passed the preliminary sanity check.\")"
   ]
  },
  {
   "cell_type": "markdown",
   "metadata": {
    "deletable": false,
    "editable": false,
    "nbgrader": {
     "cell_type": "markdown",
     "checksum": "bcb8ede9c01120850a7695e9b2bc579f",
     "grade": false,
     "grade_id": "cell-7d6646792e29925f",
     "locked": true,
     "schema_version": 3,
     "solution": false,
     "task": false
    }
   },
   "source": [
    "## Attribution\n",
    "\n",
    "\"Immeubles protégés au titre des Monuments Historiques\", July 23, 2020, \n",
    "Ministère de la Culture, [ETALAB 2.0 license](https://www.etalab.gouv.fr/wp-content/uploads/2017/04/ETALAB-Licence-Ouverte-v2.0.pdf), https://www.data.gouv.fr/fr/datasets/immeubles-proteges-au-titre-des-monuments-historiques-2/"
   ]
  }
 ],
 "metadata": {
  "c1_recart": "7.45.0-57c20131aabc1dc2a8c675852d80a7da",
  "kernelspec": {
   "display_name": "Python 3",
   "language": "python",
   "name": "python3"
  },
  "language_info": {
   "codemirror_mode": {
    "name": "ipython",
    "version": 3
   },
   "file_extension": ".py",
   "mimetype": "text/x-python",
   "name": "python",
   "nbconvert_exporter": "python",
   "pygments_lexer": "ipython3",
   "version": "3.6.9"
  }
 },
 "nbformat": 4,
 "nbformat_minor": 5
}
